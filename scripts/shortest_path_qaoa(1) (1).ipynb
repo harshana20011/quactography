{
 "cells": [
  {
   "cell_type": "code",
   "execution_count": null,
   "metadata": {},
   "outputs": [],
   "source": [
    "import numpy as np\n",
    "\n",
    "from scipy.optimize import minimize\n",
    "\n",
    "from qiskit.circuit.library import QAOAAnsatz\n",
    "from qiskit.quantum_info import SparsePauliOp\n",
    "from qiskit.primitives import Estimator, Sampler\n",
    "from qiskit.visualization import plot_distribution\n",
    "\n",
    "import matplotlib.pyplot as plt\n",
    "import networkx as nx\n"
   ]
  },
  {
   "cell_type": "code",
   "execution_count": null,
   "metadata": {},
   "outputs": [],
   "source": [
    "# Plot graph\n",
    "\n",
    "G = nx.Graph()\n",
    "\n",
    "G.add_edge(0, 1, weight=3.0)\n",
    "G.add_edge(1, 2, weight=1.0)\n",
    "G.add_edge(2, 3, weight=6.0)\n",
    "G.add_edge(3, 4, weight=1.0)\n",
    "G.add_edge(4, 5, weight=3.0)\n",
    "G.add_edge(5, 0, weight=9.0)\n",
    "\n",
    "pos = nx.spring_layout(G, seed=7)\n",
    "edge_labels = nx.get_edge_attributes(G, \"weight\")\n",
    "\n",
    "nx.draw_networkx_nodes(G, pos, node_size=400, node_color=\"#797EF6\")\n",
    "nx.draw_networkx_edges(G, pos, width=2, edge_color=\"#797EF6\")\n",
    "nx.draw_networkx_labels(G, pos, font_size=10, font_family=\"sans-serif\", font_color=\"w\")\n",
    "nx.draw_networkx_edge_labels(G, pos, edge_labels)\n",
    "\n",
    "\n",
    "ax = plt.gca()\n",
    "ax.margins(0.08)\n",
    "plt.axis(\"off\")\n",
    "plt.tight_layout()\n",
    "plt.show()"
   ]
  },
  {
   "cell_type": "code",
   "execution_count": null,
   "metadata": {},
   "outputs": [],
   "source": [
    "# Start (s) : 0\n",
    "# Finish (f) : 3\n",
    "\n",
    "# Qubits\n",
    "# q0 : edge 0-1\n",
    "# q1 : edge 1-2\n",
    "# q2 : edge 2-3\n",
    "# q3 : edge 3-4\n",
    "# q4 : edge 4-5\n",
    "# q5 : edge 5-0\n",
    "\n",
    "# Paths :\n",
    "# - q0-q1-q2\n",
    "# - q5-q4-q3\n",
    "\n",
    "# Basic cost Hamiltonian depending on edges' weights.\n",
    "h_c = SparsePauliOp.from_list([(\"IIIIII\", 11.5),\n",
    "                               (\"IIIIIZ\", -1.5),\n",
    "                               (\"IIIIZI\", -0.5),\n",
    "                               (\"IIIZII\", -3.0),\n",
    "                               (\"IIZIII\", -0.5),\n",
    "                               (\"IZIIII\", -1.5),\n",
    "                               (\"ZIIIII\", -4.5)])\n",
    "\n",
    "# condition to make sure we only \"leave\" once from the starting node.\n",
    "h_s = SparsePauliOp.from_list([(\"IIIIIZ\", -0.5),\n",
    "                               (\"ZIIIII\", -0.5)])\n",
    "\n",
    "# condition to make sure we only \"arrive\" once at the finishing node.\n",
    "h_f = SparsePauliOp.from_list([(\"IIIZII\", -0.5),\n",
    "                               (\"IIZIII\", -0.5)])\n",
    "\n",
    "# Sum of all prec and succ nodes of paths.\n",
    "h_1 = SparsePauliOp.from_list([(\"IIIIZI\", -0.5),\n",
    "                               (\"IIIIIZ\", +0.5)])\n",
    "\n",
    "h_2 = SparsePauliOp.from_list([(\"IIIZII\", -0.5),\n",
    "                               (\"IIIIZI\", +0.5)])\n",
    "\n",
    "h_4 = SparsePauliOp.from_list([(\"IIZIII\", -0.5),\n",
    "                               (\"IZIIII\", +0.5)])\n",
    "\n",
    "h_5 = SparsePauliOp.from_list([(\"IZIIII\", -0.5),\n",
    "                               (\"ZIIIII\", +0.5)])\n",
    "\n",
    "# Alpha shouldn't be too big to keep the energy spectrum of the hamiltonian usable with QAOA.\n",
    "alpha = 18\n",
    "\n",
    "# QUBO representation of Hamiltonian (cost function).\n",
    "h = h_c + alpha * ((h_s**2) + (h_f**2) + (h_1**2) + (h_2**2) + (h_4**2) + (h_5**2))"
   ]
  },
  {
   "cell_type": "code",
   "execution_count": null,
   "metadata": {},
   "outputs": [],
   "source": [
    "# Create QAOA circuit.\n",
    "ansatz = QAOAAnsatz(h, reps=4)\n",
    "ansatz.decompose(reps=3).draw(output=\"mpl\", style=\"iqp\")"
   ]
  },
  {
   "cell_type": "code",
   "execution_count": null,
   "metadata": {},
   "outputs": [],
   "source": [
    "# Run on local estimator and sampler. Fix seeds for results reproducibility.\n",
    "estimator = Estimator(options={\"shots\": 1000000, \"seed\" : 42})\n",
    "sampler = Sampler(options={\"shots\": 1000000, \"seed\" :42})"
   ]
  },
  {
   "cell_type": "code",
   "execution_count": null,
   "metadata": {},
   "outputs": [],
   "source": [
    "# Cost function for the minimizer.\n",
    "# Returns the expectation value of circuit with Hamiltonian as an observable.\n",
    "def cost_func(params, estimator, ansatz, hamiltonian):\n",
    "    cost = estimator.run(ansatz, hamiltonian, parameter_values=params).result().values[0]\n",
    "    return cost"
   ]
  },
  {
   "cell_type": "code",
   "execution_count": null,
   "metadata": {},
   "outputs": [],
   "source": [
    "# Generate starting point. Fixed to zeros for results reproducibility.\n",
    "# x0 = 2 * np.pi * np.random.rand(ansatz.num_parameters)\n",
    "x0 = np.zeros(ansatz.num_parameters)\n",
    "\n",
    "res = minimize(cost_func, x0, args=(estimator, ansatz, h), method=\"COBYLA\")"
   ]
  },
  {
   "cell_type": "code",
   "execution_count": null,
   "metadata": {},
   "outputs": [],
   "source": [
    "# Get probability distribution associated with optimized parameters.\n",
    "circ = ansatz.copy()\n",
    "circ.measure_all()\n",
    "dist = sampler.run(circ, res.x).result().quasi_dists[0]\n",
    "\n",
    "plot_distribution(dist.binary_probabilities(), figsize=(15, 5))"
   ]
  },
  {
   "cell_type": "code",
   "execution_count": null,
   "metadata": {},
   "outputs": [],
   "source": [
    "# Display graph\n",
    "bin_str = list(map(int, max(dist.binary_probabilities(), key=dist.binary_probabilities().get)))\n",
    "bin_str.reverse()\n",
    "bin_str.insert(1, bin_str.pop(-1))\n",
    "\n",
    "pos = nx.spring_layout(G, seed=7)\n",
    "edge_labels = nx.get_edge_attributes(G, \"weight\")\n",
    "\n",
    "e_in  = [(u, v) for i, (u, v, d) in enumerate(G.edges(data=True)) if bin_str[i]]\n",
    "e_out  = [(u, v) for i, (u, v, d) in enumerate(G.edges(data=True)) if not bin_str[i]]\n",
    "\n",
    "color_map = np.array([\"#D3D3D3\"] * G.number_of_nodes())\n",
    "color_map[list(sum(e_in, ()))] = \"#EE6B6E\"\n",
    "\n",
    "nx.draw_networkx_nodes(G, pos, node_color=color_map, node_size=400)\n",
    "nx.draw_networkx_edges(G, pos, edgelist=e_in, width=2, alpha=1, edge_color=\"#EE6B6E\", style=\"dashed\")\n",
    "nx.draw_networkx_edges(G, pos, edgelist=e_out, width=2, edge_color=\"#D3D3D3\")\n",
    "nx.draw_networkx_edge_labels(G, pos, edge_labels)\n",
    "nx.draw_networkx_labels(G, pos, font_size=10, font_family=\"sans-serif\", font_color=\"w\")\n",
    "\n",
    "ax = plt.gca()\n",
    "ax.margins(0.08)\n",
    "plt.axis(\"off\")\n",
    "plt.tight_layout()\n",
    "plt.show()"
   ]
  },
  {
   "cell_type": "code",
   "execution_count": null,
   "metadata": {},
   "outputs": [],
   "source": []
  }
 ],
 "metadata": {
  "kernelspec": {
   "display_name": "pauli",
   "language": "python",
   "name": "python3"
  },
  "language_info": {
   "codemirror_mode": {
    "name": "ipython",
    "version": 3
   },
   "file_extension": ".py",
   "mimetype": "text/x-python",
   "name": "python",
   "nbconvert_exporter": "python",
   "pygments_lexer": "ipython3",
   "version": "3.10.13"
  }
 },
 "nbformat": 4,
 "nbformat_minor": 2
}
