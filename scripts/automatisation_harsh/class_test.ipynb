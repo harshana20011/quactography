{
 "cells": [
  {
   "cell_type": "code",
   "execution_count": null,
   "metadata": {},
   "outputs": [],
   "source": [
    "# class Hamiltonian\n",
    "# class graph\n",
    "from connexions_qubits import connexions_edges \n",
    "from visualisation_entry_graph import visualize_num_nodes \n",
    "\n",
    "class Graph():\n",
    "    def __init__(self, mat_adj,adj_matrix_from_csv):\n",
    "        self.num_nodes = visualize_num_nodes(adj_matrix_from_csv, mat_adj)\n",
    "        (\n",
    "            self.number_of_edges, \n",
    "            self.weights, \n",
    "            self.starting_nodes, \n",
    "            self.ending_nodes, \n",
    "            self.q_indices, \n",
    "            self.all_weights_sum, \n",
    "            self.max_weight,\n",
    "            ) = connexions_edges(mat_adj,self.num_nodes)\n"
   ]
  }
 ],
 "metadata": {
  "language_info": {
   "name": "python"
  }
 },
 "nbformat": 4,
 "nbformat_minor": 2
}
